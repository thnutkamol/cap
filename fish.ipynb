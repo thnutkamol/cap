{
 "cells": [
  {
   "cell_type": "code",
   "execution_count": 1,
   "metadata": {},
   "outputs": [],
   "source": [
    "import pandas as pd\n",
    "import numpy as np\n",
    "import seaborn as sns\n",
    "import matplotlib.pyplot as plt\n",
    "%matplotlib inline"
   ]
  },
  {
   "cell_type": "code",
   "execution_count": 2,
   "metadata": {},
   "outputs": [
    {
     "name": "stderr",
     "output_type": "stream",
     "text": [
      "C:\\Users\\Asus\\miniconda3\\lib\\site-packages\\IPython\\core\\interactiveshell.py:3146: DtypeWarning: Columns (6) have mixed types.Specify dtype option on import or set low_memory=False.\n",
      "  interactivity=interactivity, compiler=compiler, result=result)\n"
     ]
    }
   ],
   "source": [
    "df = pd.read_csv(r'C:\\Users\\Asus\\Downloads\\fishdata.csv', \n",
    "                 encoding ='unicode_escape',\n",
    "                 skiprows = [1],\n",
    "                 usecols = [0,1,2,3,4,5,6,7,8,9,10,11] )"
   ]
  },
  {
   "cell_type": "code",
   "execution_count": 3,
   "metadata": {},
   "outputs": [
    {
     "data": {
      "text/html": [
       "<div>\n",
       "<style scoped>\n",
       "    .dataframe tbody tr th:only-of-type {\n",
       "        vertical-align: middle;\n",
       "    }\n",
       "\n",
       "    .dataframe tbody tr th {\n",
       "        vertical-align: top;\n",
       "    }\n",
       "\n",
       "    .dataframe thead th {\n",
       "        text-align: right;\n",
       "    }\n",
       "</style>\n",
       "<table border=\"1\" class=\"dataframe\">\n",
       "  <thead>\n",
       "    <tr style=\"text-align: right;\">\n",
       "      <th></th>\n",
       "      <th>year</th>\n",
       "      <th>month</th>\n",
       "      <th>day</th>\n",
       "      <th>hr</th>\n",
       "      <th>min</th>\n",
       "      <th>sec</th>\n",
       "      <th>carbon_monoxide</th>\n",
       "      <th>water_temp</th>\n",
       "      <th>external_temp</th>\n",
       "      <th>humudity</th>\n",
       "      <th>light_intensity</th>\n",
       "      <th>ph</th>\n",
       "    </tr>\n",
       "  </thead>\n",
       "  <tbody>\n",
       "    <tr>\n",
       "      <th>0</th>\n",
       "      <td>2020.0</td>\n",
       "      <td>6.0</td>\n",
       "      <td>18</td>\n",
       "      <td>14</td>\n",
       "      <td>30.0</td>\n",
       "      <td>43.0</td>\n",
       "      <td>201</td>\n",
       "      <td>25.0</td>\n",
       "      <td>29.0</td>\n",
       "      <td>95.0</td>\n",
       "      <td>27.19</td>\n",
       "      <td>4.39</td>\n",
       "    </tr>\n",
       "    <tr>\n",
       "      <th>1</th>\n",
       "      <td>2020.0</td>\n",
       "      <td>6.0</td>\n",
       "      <td>18</td>\n",
       "      <td>14</td>\n",
       "      <td>30.0</td>\n",
       "      <td>48.0</td>\n",
       "      <td>201</td>\n",
       "      <td>25.0</td>\n",
       "      <td>29.0</td>\n",
       "      <td>95.0</td>\n",
       "      <td>27.19</td>\n",
       "      <td>4.38</td>\n",
       "    </tr>\n",
       "    <tr>\n",
       "      <th>2</th>\n",
       "      <td>2020.0</td>\n",
       "      <td>6.0</td>\n",
       "      <td>18</td>\n",
       "      <td>14</td>\n",
       "      <td>31.0</td>\n",
       "      <td>3.0</td>\n",
       "      <td>201</td>\n",
       "      <td>25.0</td>\n",
       "      <td>29.0</td>\n",
       "      <td>95.0</td>\n",
       "      <td>27.19</td>\n",
       "      <td>4.38</td>\n",
       "    </tr>\n",
       "    <tr>\n",
       "      <th>3</th>\n",
       "      <td>2020.0</td>\n",
       "      <td>6.0</td>\n",
       "      <td>18</td>\n",
       "      <td>14</td>\n",
       "      <td>31.0</td>\n",
       "      <td>8.0</td>\n",
       "      <td>201</td>\n",
       "      <td>25.0</td>\n",
       "      <td>29.0</td>\n",
       "      <td>95.0</td>\n",
       "      <td>27.19</td>\n",
       "      <td>4.41</td>\n",
       "    </tr>\n",
       "    <tr>\n",
       "      <th>4</th>\n",
       "      <td>2020.0</td>\n",
       "      <td>6.0</td>\n",
       "      <td>18</td>\n",
       "      <td>14</td>\n",
       "      <td>31.0</td>\n",
       "      <td>13.0</td>\n",
       "      <td>201</td>\n",
       "      <td>25.0</td>\n",
       "      <td>29.0</td>\n",
       "      <td>95.0</td>\n",
       "      <td>27.25</td>\n",
       "      <td>4.41</td>\n",
       "    </tr>\n",
       "  </tbody>\n",
       "</table>\n",
       "</div>"
      ],
      "text/plain": [
       "     year  month  day  hr   min   sec carbon_monoxide  water_temp  \\\n",
       "0  2020.0    6.0   18  14  30.0  43.0             201        25.0   \n",
       "1  2020.0    6.0   18  14  30.0  48.0             201        25.0   \n",
       "2  2020.0    6.0   18  14  31.0   3.0             201        25.0   \n",
       "3  2020.0    6.0   18  14  31.0   8.0             201        25.0   \n",
       "4  2020.0    6.0   18  14  31.0  13.0             201        25.0   \n",
       "\n",
       "   external_temp  humudity  light_intensity    ph  \n",
       "0           29.0      95.0            27.19  4.39  \n",
       "1           29.0      95.0            27.19  4.38  \n",
       "2           29.0      95.0            27.19  4.38  \n",
       "3           29.0      95.0            27.19  4.41  \n",
       "4           29.0      95.0            27.25  4.41  "
      ]
     },
     "execution_count": 3,
     "metadata": {},
     "output_type": "execute_result"
    }
   ],
   "source": [
    "df.head()"
   ]
  },
  {
   "cell_type": "code",
   "execution_count": 4,
   "metadata": {},
   "outputs": [
    {
     "name": "stdout",
     "output_type": "stream",
     "text": [
      "<class 'pandas.core.frame.DataFrame'>\n",
      "RangeIndex: 811946 entries, 0 to 811945\n",
      "Data columns (total 12 columns):\n",
      " #   Column           Non-Null Count   Dtype  \n",
      "---  ------           --------------   -----  \n",
      " 0   year             811946 non-null  float64\n",
      " 1   month            811946 non-null  float64\n",
      " 2   day              811946 non-null  int64  \n",
      " 3   hr               811946 non-null  int64  \n",
      " 4   min              811946 non-null  float64\n",
      " 5   sec              811946 non-null  float64\n",
      " 6   carbon_monoxide  810198 non-null  object \n",
      " 7   water_temp       811872 non-null  float64\n",
      " 8   external_temp    811851 non-null  float64\n",
      " 9   humudity         811843 non-null  float64\n",
      " 10  light_intensity  811843 non-null  float64\n",
      " 11  ph               807408 non-null  float64\n",
      "dtypes: float64(9), int64(2), object(1)\n",
      "memory usage: 74.3+ MB\n"
     ]
    }
   ],
   "source": [
    "df.info()"
   ]
  },
  {
   "cell_type": "code",
   "execution_count": 5,
   "metadata": {},
   "outputs": [],
   "source": [
    "df.carbon_monoxide = pd.to_numeric(df.carbon_monoxide, errors='coerce')"
   ]
  },
  {
   "cell_type": "code",
   "execution_count": 6,
   "metadata": {},
   "outputs": [],
   "source": [
    "df.fillna(method='pad', limit=1, inplace=True)"
   ]
  },
  {
   "cell_type": "code",
   "execution_count": 7,
   "metadata": {},
   "outputs": [],
   "source": [
    "df.fillna(method='bfill', limit=1, inplace=True)"
   ]
  },
  {
   "cell_type": "code",
   "execution_count": 8,
   "metadata": {},
   "outputs": [],
   "source": [
    "df['year'] = np.where(df.year != 2020, 2020, df.year)"
   ]
  },
  {
   "cell_type": "code",
   "execution_count": 9,
   "metadata": {},
   "outputs": [],
   "source": [
    "#humidity\n",
    "df['humudity'] = np.where(df.humudity != 95, 95, df.humudity)"
   ]
  },
  {
   "cell_type": "code",
   "execution_count": 10,
   "metadata": {},
   "outputs": [
    {
     "data": {
      "text/html": [
       "<div>\n",
       "<style scoped>\n",
       "    .dataframe tbody tr th:only-of-type {\n",
       "        vertical-align: middle;\n",
       "    }\n",
       "\n",
       "    .dataframe tbody tr th {\n",
       "        vertical-align: top;\n",
       "    }\n",
       "\n",
       "    .dataframe thead th {\n",
       "        text-align: right;\n",
       "    }\n",
       "</style>\n",
       "<table border=\"1\" class=\"dataframe\">\n",
       "  <thead>\n",
       "    <tr style=\"text-align: right;\">\n",
       "      <th></th>\n",
       "      <th>year</th>\n",
       "      <th>month</th>\n",
       "      <th>day</th>\n",
       "      <th>hr</th>\n",
       "      <th>min</th>\n",
       "      <th>sec</th>\n",
       "      <th>carbon_monoxide</th>\n",
       "      <th>water_temp</th>\n",
       "      <th>external_temp</th>\n",
       "      <th>humudity</th>\n",
       "      <th>light_intensity</th>\n",
       "      <th>ph</th>\n",
       "    </tr>\n",
       "  </thead>\n",
       "  <tbody>\n",
       "    <tr>\n",
       "      <th>count</th>\n",
       "      <td>811946.0</td>\n",
       "      <td>811946.00</td>\n",
       "      <td>811946.00</td>\n",
       "      <td>811946.00</td>\n",
       "      <td>811946.00</td>\n",
       "      <td>811946.00</td>\n",
       "      <td>811946.00</td>\n",
       "      <td>811946.00</td>\n",
       "      <td>811946.00</td>\n",
       "      <td>811946.0</td>\n",
       "      <td>811946.00</td>\n",
       "      <td>811946.00</td>\n",
       "    </tr>\n",
       "    <tr>\n",
       "      <th>mean</th>\n",
       "      <td>2020.0</td>\n",
       "      <td>2.62</td>\n",
       "      <td>18.49</td>\n",
       "      <td>11.79</td>\n",
       "      <td>29.48</td>\n",
       "      <td>29.50</td>\n",
       "      <td>212.65</td>\n",
       "      <td>-65.00</td>\n",
       "      <td>30.83</td>\n",
       "      <td>95.0</td>\n",
       "      <td>28.49</td>\n",
       "      <td>82.52</td>\n",
       "    </tr>\n",
       "    <tr>\n",
       "      <th>std</th>\n",
       "      <td>0.0</td>\n",
       "      <td>2519.28</td>\n",
       "      <td>26.61</td>\n",
       "      <td>6.22</td>\n",
       "      <td>17.32</td>\n",
       "      <td>17.32</td>\n",
       "      <td>52.21</td>\n",
       "      <td>66.95</td>\n",
       "      <td>5.68</td>\n",
       "      <td>0.0</td>\n",
       "      <td>2.60</td>\n",
       "      <td>1638.40</td>\n",
       "    </tr>\n",
       "    <tr>\n",
       "      <th>min</th>\n",
       "      <td>2020.0</td>\n",
       "      <td>-1912020.00</td>\n",
       "      <td>1.00</td>\n",
       "      <td>0.00</td>\n",
       "      <td>0.00</td>\n",
       "      <td>0.00</td>\n",
       "      <td>-183.00</td>\n",
       "      <td>-240.00</td>\n",
       "      <td>-999.00</td>\n",
       "      <td>95.0</td>\n",
       "      <td>2.97</td>\n",
       "      <td>2.65</td>\n",
       "    </tr>\n",
       "    <tr>\n",
       "      <th>25%</th>\n",
       "      <td>2020.0</td>\n",
       "      <td>7.00</td>\n",
       "      <td>13.00</td>\n",
       "      <td>7.00</td>\n",
       "      <td>14.00</td>\n",
       "      <td>14.00</td>\n",
       "      <td>183.00</td>\n",
       "      <td>-140.00</td>\n",
       "      <td>29.00</td>\n",
       "      <td>95.0</td>\n",
       "      <td>27.06</td>\n",
       "      <td>3.85</td>\n",
       "    </tr>\n",
       "    <tr>\n",
       "      <th>50%</th>\n",
       "      <td>2020.0</td>\n",
       "      <td>7.00</td>\n",
       "      <td>21.00</td>\n",
       "      <td>12.00</td>\n",
       "      <td>29.00</td>\n",
       "      <td>29.00</td>\n",
       "      <td>198.00</td>\n",
       "      <td>-50.00</td>\n",
       "      <td>30.00</td>\n",
       "      <td>95.0</td>\n",
       "      <td>28.25</td>\n",
       "      <td>4.02</td>\n",
       "    </tr>\n",
       "    <tr>\n",
       "      <th>75%</th>\n",
       "      <td>2020.0</td>\n",
       "      <td>8.00</td>\n",
       "      <td>26.00</td>\n",
       "      <td>16.00</td>\n",
       "      <td>44.00</td>\n",
       "      <td>45.00</td>\n",
       "      <td>244.00</td>\n",
       "      <td>-19.00</td>\n",
       "      <td>32.00</td>\n",
       "      <td>95.0</td>\n",
       "      <td>30.25</td>\n",
       "      <td>4.35</td>\n",
       "    </tr>\n",
       "    <tr>\n",
       "      <th>max</th>\n",
       "      <td>2020.0</td>\n",
       "      <td>2020.00</td>\n",
       "      <td>22020.00</td>\n",
       "      <td>95.00</td>\n",
       "      <td>59.00</td>\n",
       "      <td>59.00</td>\n",
       "      <td>334.00</td>\n",
       "      <td>322.00</td>\n",
       "      <td>310.00</td>\n",
       "      <td>95.0</td>\n",
       "      <td>95.00</td>\n",
       "      <td>42020.00</td>\n",
       "    </tr>\n",
       "  </tbody>\n",
       "</table>\n",
       "</div>"
      ],
      "text/plain": [
       "           year       month        day         hr        min        sec  \\\n",
       "count  811946.0   811946.00  811946.00  811946.00  811946.00  811946.00   \n",
       "mean     2020.0        2.62      18.49      11.79      29.48      29.50   \n",
       "std         0.0     2519.28      26.61       6.22      17.32      17.32   \n",
       "min      2020.0 -1912020.00       1.00       0.00       0.00       0.00   \n",
       "25%      2020.0        7.00      13.00       7.00      14.00      14.00   \n",
       "50%      2020.0        7.00      21.00      12.00      29.00      29.00   \n",
       "75%      2020.0        8.00      26.00      16.00      44.00      45.00   \n",
       "max      2020.0     2020.00   22020.00      95.00      59.00      59.00   \n",
       "\n",
       "       carbon_monoxide  water_temp  external_temp  humudity  light_intensity  \\\n",
       "count        811946.00   811946.00      811946.00  811946.0        811946.00   \n",
       "mean            212.65      -65.00          30.83      95.0            28.49   \n",
       "std              52.21       66.95           5.68       0.0             2.60   \n",
       "min            -183.00     -240.00        -999.00      95.0             2.97   \n",
       "25%             183.00     -140.00          29.00      95.0            27.06   \n",
       "50%             198.00      -50.00          30.00      95.0            28.25   \n",
       "75%             244.00      -19.00          32.00      95.0            30.25   \n",
       "max             334.00      322.00         310.00      95.0            95.00   \n",
       "\n",
       "              ph  \n",
       "count  811946.00  \n",
       "mean       82.52  \n",
       "std      1638.40  \n",
       "min         2.65  \n",
       "25%         3.85  \n",
       "50%         4.02  \n",
       "75%         4.35  \n",
       "max     42020.00  "
      ]
     },
     "execution_count": 10,
     "metadata": {},
     "output_type": "execute_result"
    }
   ],
   "source": [
    "df.describe().round(2)"
   ]
  },
  {
   "cell_type": "code",
   "execution_count": 11,
   "metadata": {},
   "outputs": [
    {
     "name": "stderr",
     "output_type": "stream",
     "text": [
      "C:\\Users\\Asus\\miniconda3\\lib\\site-packages\\ipykernel_launcher.py:5: UserWarning: Boolean Series key will be reindexed to match DataFrame index.\n",
      "  \"\"\"\n"
     ]
    }
   ],
   "source": [
    "monthmore12 = df.month > 12\n",
    "monthless1 = df.month < 1\n",
    "\n",
    "df.drop(df[monthmore12].index, inplace=True)\n",
    "df.drop(df[monthless1].index, inplace=True)"
   ]
  },
  {
   "cell_type": "code",
   "execution_count": 12,
   "metadata": {},
   "outputs": [],
   "source": [
    "datemore31 = df.day > 31\n",
    "dateless1 = df.day < 1\n",
    "\n",
    "df.drop(df[datemore31].index, inplace=True)\n",
    "df.drop(df[dateless1].index, inplace=True)"
   ]
  },
  {
   "cell_type": "code",
   "execution_count": 13,
   "metadata": {},
   "outputs": [
    {
     "name": "stderr",
     "output_type": "stream",
     "text": [
      "C:\\Users\\Asus\\miniconda3\\lib\\site-packages\\ipykernel_launcher.py:5: UserWarning: Boolean Series key will be reindexed to match DataFrame index.\n",
      "  \"\"\"\n"
     ]
    }
   ],
   "source": [
    "hrmore23 = df.hr > 23\n",
    "hrless0 = df.hr < 0\n",
    "\n",
    "df.drop(df[hrmore23].index, inplace=True)\n",
    "df.drop(df[hrless0].index, inplace=True)"
   ]
  },
  {
   "cell_type": "code",
   "execution_count": 14,
   "metadata": {},
   "outputs": [
    {
     "name": "stdout",
     "output_type": "stream",
     "text": [
      " Q1 183.0 \n",
      " Q3 244.0 \n",
      " IQR 61.0\n",
      " Lower 91.50 \n",
      " Upper 335.50\n"
     ]
    },
    {
     "data": {
      "text/plain": [
       "<AxesSubplot:xlabel='carbon_monoxide'>"
      ]
     },
     "execution_count": 14,
     "metadata": {},
     "output_type": "execute_result"
    },
    {
     "data": {
      "image/png": "[encoded data removed]",
      "text/plain": [
       "<Figure size 432x288 with 1 Axes>"
      ]
     },
     "metadata": {
      "needs_background": "light"
     },
     "output_type": "display_data"
    }
   ],
   "source": [
    "#carbon_monoxide\n",
    "q3 = df.carbon_monoxide.quantile(.75)\n",
    "q1 = df.carbon_monoxide.quantile(.25)\n",
    "iqr = q3-q1\n",
    "\n",
    "print(' Q1 {}'.format(q1),'\\n', 'Q3 {}'.format(q3),'\\n', 'IQR {}'.format(iqr))\n",
    "\n",
    "upper = q3 + (1.5 * iqr)\n",
    "lower = q1 - (1.5 * iqr)\n",
    "\n",
    "print(' Lower {:.2f} \\n Upper {:.2f}'.format(lower, upper))\n",
    "\n",
    "plt.axvline(x=q1, c='b', linestyle='--', linewidth=1)\n",
    "plt.axvline(x=q3, c='g', linestyle='--', linewidth=1)\n",
    "plt.axvline(x=lower, c='r', linestyle='--')\n",
    "plt.axvline(x=upper, c='r', linestyle='--')\n",
    "sns.boxplot(df.carbon_monoxide, width=0.4, palette='Set2')"
   ]
  },
  {
   "cell_type": "code",
   "execution_count": 15,
   "metadata": {},
   "outputs": [
    {
     "data": {
      "text/plain": [
       "0"
      ]
     },
     "execution_count": 15,
     "metadata": {},
     "output_type": "execute_result"
    }
   ],
   "source": [
    "df[df.carbon_monoxide > upper].carbon_monoxide.count()"
   ]
  },
  {
   "cell_type": "code",
   "execution_count": 16,
   "metadata": {},
   "outputs": [
    {
     "data": {
      "image/png": "[encoded data removed]",
      "text/plain": [
       "<Figure size 432x288 with 1 Axes>"
      ]
     },
     "metadata": {
      "needs_background": "light"
     },
     "output_type": "display_data"
    }
   ],
   "source": [
    "filter = df.carbon_monoxide > upper\n",
    "df[filter]\n",
    "df.drop(df[filter].index, inplace=True)\n",
    "df = df[df.carbon_monoxide <= upper]\n",
    "df = df[df.carbon_monoxide >= lower]\n",
    "df = df[(df.carbon_monoxide <= upper) & (df.carbon_monoxide >= lower)]\n",
    "sns.boxplot(df.carbon_monoxide)\n",
    "plt.show()"
   ]
  },
  {
   "cell_type": "code",
   "execution_count": 17,
   "metadata": {},
   "outputs": [
    {
     "name": "stdout",
     "output_type": "stream",
     "text": [
      " Q1 -140.0 \n",
      " Q3 -19.0 \n",
      " IQR 121.0\n",
      " Lower -321.50 \n",
      " Upper 162.50\n"
     ]
    },
    {
     "data": {
      "text/plain": [
       "<AxesSubplot:xlabel='water_temp'>"
      ]
     },
     "execution_count": 17,
     "metadata": {},
     "output_type": "execute_result"
    },
    {
     "data": {
      "image/png": "[encoded data removed]",
      "text/plain": [
       "<Figure size 432x288 with 1 Axes>"
      ]
     },
     "metadata": {
      "needs_background": "light"
     },
     "output_type": "display_data"
    }
   ],
   "source": [
    "#water_temp\n",
    "q3 = df.water_temp.quantile(.75)\n",
    "q1 = df.water_temp.quantile(.25)\n",
    "iqr = q3-q1\n",
    "\n",
    "print(' Q1 {}'.format(q1),'\\n', 'Q3 {}'.format(q3),'\\n', 'IQR {}'.format(iqr))\n",
    "\n",
    "upper = q3 + (1.5 * iqr)\n",
    "lower = q1 - (1.5 * iqr)\n",
    "\n",
    "print(' Lower {:.2f} \\n Upper {:.2f}'.format(lower, upper))\n",
    "\n",
    "plt.axvline(x=q1, c='b', linestyle='--', linewidth=1)\n",
    "plt.axvline(x=q3, c='g', linestyle='--', linewidth=1)\n",
    "plt.axvline(x=lower, c='r', linestyle='--')\n",
    "plt.axvline(x=upper, c='r', linestyle='--')\n",
    "sns.boxplot(df.water_temp, width=0.4, palette='Set2')"
   ]
  },
  {
   "cell_type": "code",
   "execution_count": 18,
   "metadata": {},
   "outputs": [
    {
     "data": {
      "text/plain": [
       "0"
      ]
     },
     "execution_count": 18,
     "metadata": {},
     "output_type": "execute_result"
    }
   ],
   "source": [
    "df[df.water_temp > upper].water_temp.count()"
   ]
  },
  {
   "cell_type": "code",
   "execution_count": 19,
   "metadata": {},
   "outputs": [
    {
     "data": {
      "image/png": "[encoded data removed]",
      "text/plain": [
       "<Figure size 432x288 with 1 Axes>"
      ]
     },
     "metadata": {
      "needs_background": "light"
     },
     "output_type": "display_data"
    }
   ],
   "source": [
    "filter = df.water_temp > upper\n",
    "df[filter]\n",
    "df.drop(df[filter].index, inplace=True)\n",
    "df = df[df.water_temp <= upper]\n",
    "df = df[df.water_temp >= lower]\n",
    "df = df[(df.water_temp <= upper) & (df.water_temp >= lower)]\n",
    "sns.boxplot(df.water_temp)\n",
    "plt.show()"
   ]
  },
  {
   "cell_type": "code",
   "execution_count": 20,
   "metadata": {},
   "outputs": [
    {
     "name": "stdout",
     "output_type": "stream",
     "text": [
      " Q1 29.0 \n",
      " Q3 32.0 \n",
      " IQR 3.0\n",
      " Lower 24.50 \n",
      " Upper 36.50\n"
     ]
    },
    {
     "data": {
      "text/plain": [
       "<AxesSubplot:xlabel='external_temp'>"
      ]
     },
     "execution_count": 20,
     "metadata": {},
     "output_type": "execute_result"
    },
    {
     "data": {
      "image/png": "[encoded data removed]",
      "text/plain": [
       "<Figure size 432x288 with 1 Axes>"
      ]
     },
     "metadata": {
      "needs_background": "light"
     },
     "output_type": "display_data"
    }
   ],
   "source": [
    "#external_temp\n",
    "q3 = df.external_temp.quantile(.75)\n",
    "q1 = df.external_temp.quantile(.25)\n",
    "iqr = q3-q1\n",
    "\n",
    "print(' Q1 {}'.format(q1),'\\n', 'Q3 {}'.format(q3),'\\n', 'IQR {}'.format(iqr))\n",
    "\n",
    "upper = q3 + (1.5 * iqr)\n",
    "lower = q1 - (1.5 * iqr)\n",
    "\n",
    "print(' Lower {:.2f} \\n Upper {:.2f}'.format(lower, upper))\n",
    "\n",
    "plt.axvline(x=q1, c='b', linestyle='--', linewidth=1)\n",
    "plt.axvline(x=q3, c='g', linestyle='--', linewidth=1)\n",
    "plt.axvline(x=lower, c='r', linestyle='--')\n",
    "plt.axvline(x=upper, c='r', linestyle='--')\n",
    "sns.boxplot(df.external_temp, width=0.4, palette='Set2')"
   ]
  },
  {
   "cell_type": "code",
   "execution_count": 21,
   "metadata": {},
   "outputs": [
    {
     "data": {
      "text/plain": [
       "1105"
      ]
     },
     "execution_count": 21,
     "metadata": {},
     "output_type": "execute_result"
    }
   ],
   "source": [
    "df[df.external_temp > upper].external_temp.count()"
   ]
  },
  {
   "cell_type": "code",
   "execution_count": 22,
   "metadata": {},
   "outputs": [
    {
     "data": {
      "image/png": "[encoded data removed]",
      "text/plain": [
       "<Figure size 432x288 with 1 Axes>"
      ]
     },
     "metadata": {
      "needs_background": "light"
     },
     "output_type": "display_data"
    }
   ],
   "source": [
    "filter = df.external_temp > upper\n",
    "df[filter]\n",
    "df.drop(df[filter].index, inplace=True)\n",
    "\n",
    "df = df[df.external_temp <= upper]\n",
    "df = df[df.external_temp >= lower]\n",
    "df = df[(df.external_temp <= upper) & (df.external_temp >= lower)]\n",
    "sns.boxplot(df.external_temp)\n",
    "plt.show()"
   ]
  },
  {
   "cell_type": "code",
   "execution_count": 23,
   "metadata": {},
   "outputs": [
    {
     "name": "stdout",
     "output_type": "stream",
     "text": [
      " Q1 27.06 \n",
      " Q3 30.25 \n",
      " IQR 3.1900000000000013\n",
      " Lower 22.27 \n",
      " Upper 35.04\n"
     ]
    },
    {
     "data": {
      "text/plain": [
       "<AxesSubplot:xlabel='light_intensity'>"
      ]
     },
     "execution_count": 23,
     "metadata": {},
     "output_type": "execute_result"
    },
    {
     "data": {
      "image/png": "[encoded data removed]",
      "text/plain": [
       "<Figure size 432x288 with 1 Axes>"
      ]
     },
     "metadata": {
      "needs_background": "light"
     },
     "output_type": "display_data"
    }
   ],
   "source": [
    "#light_intensity\n",
    "q3 = df.light_intensity.quantile(.75)\n",
    "q1 = df.light_intensity.quantile(.25)\n",
    "iqr = q3-q1\n",
    "\n",
    "print(' Q1 {}'.format(q1),'\\n', 'Q3 {}'.format(q3),'\\n', 'IQR {}'.format(iqr))\n",
    "\n",
    "upper = q3 + (1.5 * iqr)\n",
    "lower = q1 - (1.5 * iqr)\n",
    "\n",
    "print(' Lower {:.2f} \\n Upper {:.2f}'.format(lower, upper))\n",
    "\n",
    "plt.axvline(x=q1, c='b', linestyle='--', linewidth=1)\n",
    "plt.axvline(x=q3, c='g', linestyle='--', linewidth=1)\n",
    "plt.axvline(x=lower, c='r', linestyle='--')\n",
    "plt.axvline(x=upper, c='r', linestyle='--')\n",
    "sns.boxplot(df.light_intensity, width=0.4, palette='Set2')"
   ]
  },
  {
   "cell_type": "code",
   "execution_count": 24,
   "metadata": {},
   "outputs": [
    {
     "data": {
      "text/plain": [
       "0"
      ]
     },
     "execution_count": 24,
     "metadata": {},
     "output_type": "execute_result"
    }
   ],
   "source": [
    "df[df.light_intensity > upper].light_intensity.count()"
   ]
  },
  {
   "cell_type": "code",
   "execution_count": 25,
   "metadata": {},
   "outputs": [
    {
     "data": {
      "image/png": "[encoded data removed]",
      "text/plain": [
       "<Figure size 432x288 with 1 Axes>"
      ]
     },
     "metadata": {
      "needs_background": "light"
     },
     "output_type": "display_data"
    }
   ],
   "source": [
    "filter = df.light_intensity > upper\n",
    "df[filter]\n",
    "df.drop(df[filter].index, inplace=True)\n",
    "\n",
    "df = df[df.light_intensity <= upper]\n",
    "df = df[df.light_intensity >= lower]\n",
    "df = df[(df.light_intensity <= upper) & (df.light_intensity >= lower)]\n",
    "sns.boxplot(df.light_intensity)\n",
    "plt.show()"
   ]
  },
  {
   "cell_type": "code",
   "execution_count": 26,
   "metadata": {},
   "outputs": [
    {
     "name": "stdout",
     "output_type": "stream",
     "text": [
      " Q1 3.85 \n",
      " Q3 4.36 \n",
      " IQR 0.5100000000000002\n",
      " Lower 3.08 \n",
      " Upper 5.13\n"
     ]
    },
    {
     "data": {
      "text/plain": [
       "<AxesSubplot:xlabel='ph'>"
      ]
     },
     "execution_count": 26,
     "metadata": {},
     "output_type": "execute_result"
    },
    {
     "data": {
      "image/png": "[encoded data removed]",
      "text/plain": [
       "<Figure size 432x288 with 1 Axes>"
      ]
     },
     "metadata": {
      "needs_background": "light"
     },
     "output_type": "display_data"
    }
   ],
   "source": [
    "#ph\n",
    "q3 = df.ph.quantile(.75)\n",
    "q1 = df.ph.quantile(.25)\n",
    "iqr = q3-q1\n",
    "\n",
    "print(' Q1 {}'.format(q1),'\\n', 'Q3 {}'.format(q3),'\\n', 'IQR {}'.format(iqr))\n",
    "\n",
    "upper = q3 + (1.5 * iqr)\n",
    "lower = q1 - (1.5 * iqr)\n",
    "\n",
    "print(' Lower {:.2f} \\n Upper {:.2f}'.format(lower, upper))\n",
    "\n",
    "plt.axvline(x=q1, c='b', linestyle='--', linewidth=1)\n",
    "plt.axvline(x=q3, c='g', linestyle='--', linewidth=1)\n",
    "plt.axvline(x=lower, c='r', linestyle='--')\n",
    "plt.axvline(x=upper, c='r', linestyle='--')\n",
    "sns.boxplot(df.ph, width=0.4, palette='Set2')"
   ]
  },
  {
   "cell_type": "code",
   "execution_count": 27,
   "metadata": {},
   "outputs": [
    {
     "data": {
      "text/plain": [
       "5885"
      ]
     },
     "execution_count": 27,
     "metadata": {},
     "output_type": "execute_result"
    }
   ],
   "source": [
    "df[df.ph > upper].ph.count()"
   ]
  },
  {
   "cell_type": "code",
   "execution_count": 28,
   "metadata": {},
   "outputs": [
    {
     "data": {
      "image/png": "[encoded data removed]",
      "text/plain": [
       "<Figure size 432x288 with 1 Axes>"
      ]
     },
     "metadata": {
      "needs_background": "light"
     },
     "output_type": "display_data"
    }
   ],
   "source": [
    "filter = df.ph > upper\n",
    "df[filter]\n",
    "df.drop(df[filter].index, inplace=True)\n",
    "\n",
    "df = df[df.ph <= upper]\n",
    "df = df[df.ph >= lower]\n",
    "df = df[(df.ph <= upper) & (df.ph >= lower)]\n",
    "sns.boxplot(df.ph)\n",
    "plt.show()"
   ]
  },
  {
   "cell_type": "code",
   "execution_count": 29,
   "metadata": {},
   "outputs": [],
   "source": [
    "df.year = df.year.astype('int')\n",
    "df.month = df.month.astype('int')\n",
    "df.day = df.day.astype('int')\n",
    "df.hr = df.hr.astype('int')\n",
    "df['min'] = df['min'].astype('int')\n",
    "df.sec = df.sec.astype('int')"
   ]
  },
  {
   "cell_type": "code",
   "execution_count": 30,
   "metadata": {},
   "outputs": [
    {
     "data": {
      "text/html": [
       "<div>\n",
       "<style scoped>\n",
       "    .dataframe tbody tr th:only-of-type {\n",
       "        vertical-align: middle;\n",
       "    }\n",
       "\n",
       "    .dataframe tbody tr th {\n",
       "        vertical-align: top;\n",
       "    }\n",
       "\n",
       "    .dataframe thead th {\n",
       "        text-align: right;\n",
       "    }\n",
       "</style>\n",
       "<table border=\"1\" class=\"dataframe\">\n",
       "  <thead>\n",
       "    <tr style=\"text-align: right;\">\n",
       "      <th></th>\n",
       "      <th>year</th>\n",
       "      <th>month</th>\n",
       "      <th>day</th>\n",
       "      <th>hr</th>\n",
       "      <th>min</th>\n",
       "      <th>sec</th>\n",
       "      <th>carbon_monoxide</th>\n",
       "      <th>water_temp</th>\n",
       "      <th>external_temp</th>\n",
       "      <th>humudity</th>\n",
       "      <th>light_intensity</th>\n",
       "      <th>ph</th>\n",
       "    </tr>\n",
       "  </thead>\n",
       "  <tbody>\n",
       "    <tr>\n",
       "      <th>0</th>\n",
       "      <td>2020</td>\n",
       "      <td>6</td>\n",
       "      <td>18</td>\n",
       "      <td>14</td>\n",
       "      <td>30</td>\n",
       "      <td>43</td>\n",
       "      <td>201.0</td>\n",
       "      <td>25.0</td>\n",
       "      <td>29.0</td>\n",
       "      <td>95.0</td>\n",
       "      <td>27.19</td>\n",
       "      <td>4.39</td>\n",
       "    </tr>\n",
       "    <tr>\n",
       "      <th>1</th>\n",
       "      <td>2020</td>\n",
       "      <td>6</td>\n",
       "      <td>18</td>\n",
       "      <td>14</td>\n",
       "      <td>30</td>\n",
       "      <td>48</td>\n",
       "      <td>201.0</td>\n",
       "      <td>25.0</td>\n",
       "      <td>29.0</td>\n",
       "      <td>95.0</td>\n",
       "      <td>27.19</td>\n",
       "      <td>4.38</td>\n",
       "    </tr>\n",
       "    <tr>\n",
       "      <th>2</th>\n",
       "      <td>2020</td>\n",
       "      <td>6</td>\n",
       "      <td>18</td>\n",
       "      <td>14</td>\n",
       "      <td>31</td>\n",
       "      <td>3</td>\n",
       "      <td>201.0</td>\n",
       "      <td>25.0</td>\n",
       "      <td>29.0</td>\n",
       "      <td>95.0</td>\n",
       "      <td>27.19</td>\n",
       "      <td>4.38</td>\n",
       "    </tr>\n",
       "  </tbody>\n",
       "</table>\n",
       "</div>"
      ],
      "text/plain": [
       "   year  month  day  hr  min  sec  carbon_monoxide  water_temp  external_temp  \\\n",
       "0  2020      6   18  14   30   43            201.0        25.0           29.0   \n",
       "1  2020      6   18  14   30   48            201.0        25.0           29.0   \n",
       "2  2020      6   18  14   31    3            201.0        25.0           29.0   \n",
       "\n",
       "   humudity  light_intensity    ph  \n",
       "0      95.0            27.19  4.39  \n",
       "1      95.0            27.19  4.38  \n",
       "2      95.0            27.19  4.38  "
      ]
     },
     "execution_count": 30,
     "metadata": {},
     "output_type": "execute_result"
    }
   ],
   "source": [
    "df.head(3)"
   ]
  },
  {
   "cell_type": "code",
   "execution_count": 31,
   "metadata": {},
   "outputs": [],
   "source": [
    "df.iloc[:,0:6] = df.iloc[:,0:6].astype('category')"
   ]
  },
  {
   "cell_type": "code",
   "execution_count": 32,
   "metadata": {},
   "outputs": [
    {
     "data": {
      "text/html": [
       "<div>\n",
       "<style scoped>\n",
       "    .dataframe tbody tr th:only-of-type {\n",
       "        vertical-align: middle;\n",
       "    }\n",
       "\n",
       "    .dataframe tbody tr th {\n",
       "        vertical-align: top;\n",
       "    }\n",
       "\n",
       "    .dataframe thead th {\n",
       "        text-align: right;\n",
       "    }\n",
       "</style>\n",
       "<table border=\"1\" class=\"dataframe\">\n",
       "  <thead>\n",
       "    <tr style=\"text-align: right;\">\n",
       "      <th></th>\n",
       "      <th>carbon_monoxide</th>\n",
       "      <th>water_temp</th>\n",
       "      <th>external_temp</th>\n",
       "      <th>humudity</th>\n",
       "      <th>light_intensity</th>\n",
       "      <th>ph</th>\n",
       "    </tr>\n",
       "  </thead>\n",
       "  <tbody>\n",
       "    <tr>\n",
       "      <th>carbon_monoxide</th>\n",
       "      <td>1.000000</td>\n",
       "      <td>-0.088690</td>\n",
       "      <td>-0.089975</td>\n",
       "      <td>NaN</td>\n",
       "      <td>0.260387</td>\n",
       "      <td>0.738634</td>\n",
       "    </tr>\n",
       "    <tr>\n",
       "      <th>water_temp</th>\n",
       "      <td>-0.088690</td>\n",
       "      <td>1.000000</td>\n",
       "      <td>0.340301</td>\n",
       "      <td>NaN</td>\n",
       "      <td>0.248473</td>\n",
       "      <td>-0.069621</td>\n",
       "    </tr>\n",
       "    <tr>\n",
       "      <th>external_temp</th>\n",
       "      <td>-0.089975</td>\n",
       "      <td>0.340301</td>\n",
       "      <td>1.000000</td>\n",
       "      <td>NaN</td>\n",
       "      <td>0.847647</td>\n",
       "      <td>-0.298969</td>\n",
       "    </tr>\n",
       "    <tr>\n",
       "      <th>humudity</th>\n",
       "      <td>NaN</td>\n",
       "      <td>NaN</td>\n",
       "      <td>NaN</td>\n",
       "      <td>NaN</td>\n",
       "      <td>NaN</td>\n",
       "      <td>NaN</td>\n",
       "    </tr>\n",
       "    <tr>\n",
       "      <th>light_intensity</th>\n",
       "      <td>0.260387</td>\n",
       "      <td>0.248473</td>\n",
       "      <td>0.847647</td>\n",
       "      <td>NaN</td>\n",
       "      <td>1.000000</td>\n",
       "      <td>-0.043544</td>\n",
       "    </tr>\n",
       "    <tr>\n",
       "      <th>ph</th>\n",
       "      <td>0.738634</td>\n",
       "      <td>-0.069621</td>\n",
       "      <td>-0.298969</td>\n",
       "      <td>NaN</td>\n",
       "      <td>-0.043544</td>\n",
       "      <td>1.000000</td>\n",
       "    </tr>\n",
       "  </tbody>\n",
       "</table>\n",
       "</div>"
      ],
      "text/plain": [
       "                 carbon_monoxide  water_temp  external_temp  humudity  \\\n",
       "carbon_monoxide         1.000000   -0.088690      -0.089975       NaN   \n",
       "water_temp             -0.088690    1.000000       0.340301       NaN   \n",
       "external_temp          -0.089975    0.340301       1.000000       NaN   \n",
       "humudity                     NaN         NaN            NaN       NaN   \n",
       "light_intensity         0.260387    0.248473       0.847647       NaN   \n",
       "ph                      0.738634   -0.069621      -0.298969       NaN   \n",
       "\n",
       "                 light_intensity        ph  \n",
       "carbon_monoxide         0.260387  0.738634  \n",
       "water_temp              0.248473 -0.069621  \n",
       "external_temp           0.847647 -0.298969  \n",
       "humudity                     NaN       NaN  \n",
       "light_intensity         1.000000 -0.043544  \n",
       "ph                     -0.043544  1.000000  "
      ]
     },
     "execution_count": 32,
     "metadata": {},
     "output_type": "execute_result"
    }
   ],
   "source": [
    "df.corr()"
   ]
  },
  {
   "cell_type": "code",
   "execution_count": 33,
   "metadata": {},
   "outputs": [
    {
     "data": {
      "text/plain": [
       "<AxesSubplot:>"
      ]
     },
     "execution_count": 33,
     "metadata": {},
     "output_type": "execute_result"
    },
    {
     "data": {
      "image/png": "[encoded data removed]",
      "text/plain": [
       "<Figure size 432x288 with 2 Axes>"
      ]
     },
     "metadata": {
      "needs_background": "light"
     },
     "output_type": "display_data"
    }
   ],
   "source": [
    "corr_val = df.corr()\n",
    "sns.heatmap(corr_val, annot=True)"
   ]
  }
 ],
 "metadata": {
  "kernelspec": {
   "display_name": "Python 3",
   "language": "python",
   "name": "python3"
  },
  "language_info": {
   "codemirror_mode": {
    "name": "ipython",
    "version": 3
   },
   "file_extension": ".py",
   "mimetype": "text/x-python",
   "name": "python",
   "nbconvert_exporter": "python",
   "pygments_lexer": "ipython3",
   "version": "3.7.7"
  }
 },
 "nbformat": 4,
 "nbformat_minor": 4
}
